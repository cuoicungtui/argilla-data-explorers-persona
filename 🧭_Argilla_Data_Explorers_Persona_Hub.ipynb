{
  "cells": [
    {
      "cell_type": "markdown",
      "metadata": {
        "id": "view-in-github",
        "colab_type": "text"
      },
      "source": [
        "<a href=\"https://colab.research.google.com/github/cuoicungtui/argilla-data-explorers-persona/blob/master/%F0%9F%A7%AD_Argilla_Data_Explorers_Persona_Hub.ipynb\" target=\"_parent\"><img src=\"https://colab.research.google.com/assets/colab-badge.svg\" alt=\"Open In Colab\"/></a>"
      ]
    },
    {
      "cell_type": "code",
      "execution_count": null,
      "metadata": {
        "id": "7VD4ZO4_FUya",
        "outputId": "6a055a73-f3bf-4e49-cf9f-a0b765655a71"
      },
      "outputs": [
        {
          "name": "stderr",
          "output_type": "stream",
          "text": [
            "/Users/ben/code/argilla/.venv/lib/python3.11/site-packages/tqdm/auto.py:21: TqdmWarning: IProgress not found. Please update jupyter and ipywidgets. See https://ipywidgets.readthedocs.io/en/stable/user_install.html\n",
            "  from .autonotebook import tqdm as notebook_tqdm\n"
          ]
        }
      ],
      "source": [
        "import pandas as pd\n",
        "\n",
        "_idf = pd.read_json(\n",
        "    \"hf://datasets/proj-persona/PersonaHub/instruction.jsonl\", lines=True\n",
        ")\n",
        "_mdf = pd.read_json(\"hf://datasets/proj-persona/PersonaHub/math.jsonl\", lines=True)\n",
        "_tdf = pd.read_json(\"hf://datasets/proj-persona/PersonaHub/tool.jsonl\", lines=True)"
      ]
    },
    {
      "cell_type": "code",
      "execution_count": null,
      "metadata": {
        "id": "V83e1KOeFUyb"
      },
      "outputs": [],
      "source": [
        "df = pd.concat([_idf, _mdf, _tdf])"
      ]
    },
    {
      "cell_type": "code",
      "execution_count": null,
      "metadata": {
        "id": "IFqXSVQoFUyb",
        "outputId": "5ad6e008-0a86-4989-8a62-90eb838e5f28"
      },
      "outputs": [
        {
          "data": {
            "text/html": [
              "<div>\n",
              "<style scoped>\n",
              "    .dataframe tbody tr th:only-of-type {\n",
              "        vertical-align: middle;\n",
              "    }\n",
              "\n",
              "    .dataframe tbody tr th {\n",
              "        vertical-align: top;\n",
              "    }\n",
              "\n",
              "    .dataframe thead th {\n",
              "        text-align: right;\n",
              "    }\n",
              "</style>\n",
              "<table border=\"1\" class=\"dataframe\">\n",
              "  <thead>\n",
              "    <tr style=\"text-align: right;\">\n",
              "      <th></th>\n",
              "      <th>input persona</th>\n",
              "      <th>synthesized text</th>\n",
              "      <th>description</th>\n",
              "    </tr>\n",
              "  </thead>\n",
              "  <tbody>\n",
              "    <tr>\n",
              "      <th>0</th>\n",
              "      <td>A theater manager or events coordinator intere...</td>\n",
              "      <td>What are the key considerations for scheduling...</td>\n",
              "      <td>2-shot instruction data synthesis</td>\n",
              "    </tr>\n",
              "    <tr>\n",
              "      <th>1</th>\n",
              "      <td>An urban planner looking to understand the dis...</td>\n",
              "      <td>Compare and contrast the distribution of publi...</td>\n",
              "      <td>2-shot instruction data synthesis</td>\n",
              "    </tr>\n",
              "    <tr>\n",
              "      <th>2</th>\n",
              "      <td>A high school literature teacher looking for s...</td>\n",
              "      <td>Can you provide me with a list of 5-7 educatio...</td>\n",
              "      <td>0-shot instruction data synthesis</td>\n",
              "    </tr>\n",
              "    <tr>\n",
              "      <th>3</th>\n",
              "      <td>A science fiction writer, exploring the use of...</td>\n",
              "      <td>In a dystopian future, a young journalist name...</td>\n",
              "      <td>2-shot instruction data synthesis</td>\n",
              "    </tr>\n",
              "    <tr>\n",
              "      <th>4</th>\n",
              "      <td>A financial analyst specializing in Asian mark...</td>\n",
              "      <td>Gerald Chan's investment firm has recently acq...</td>\n",
              "      <td>2-shot instruction data synthesis</td>\n",
              "    </tr>\n",
              "  </tbody>\n",
              "</table>\n",
              "</div>"
            ],
            "text/plain": [
              "                                       input persona  \\\n",
              "0  A theater manager or events coordinator intere...   \n",
              "1  An urban planner looking to understand the dis...   \n",
              "2  A high school literature teacher looking for s...   \n",
              "3  A science fiction writer, exploring the use of...   \n",
              "4  A financial analyst specializing in Asian mark...   \n",
              "\n",
              "                                    synthesized text  \\\n",
              "0  What are the key considerations for scheduling...   \n",
              "1  Compare and contrast the distribution of publi...   \n",
              "2  Can you provide me with a list of 5-7 educatio...   \n",
              "3  In a dystopian future, a young journalist name...   \n",
              "4  Gerald Chan's investment firm has recently acq...   \n",
              "\n",
              "                         description  \n",
              "0  2-shot instruction data synthesis  \n",
              "1  2-shot instruction data synthesis  \n",
              "2  0-shot instruction data synthesis  \n",
              "3  2-shot instruction data synthesis  \n",
              "4  2-shot instruction data synthesis  "
            ]
          },
          "execution_count": 11,
          "metadata": {},
          "output_type": "execute_result"
        }
      ],
      "source": [
        "df.head()"
      ]
    },
    {
      "cell_type": "code",
      "execution_count": null,
      "metadata": {
        "id": "M2Vo4vTDFUyb",
        "outputId": "f7100269-872c-4219-9050-9205db2c2d00"
      },
      "outputs": [
        {
          "data": {
            "text/plain": [
              "description\n",
              "math problem                         50000\n",
              "2-shot instruction data synthesis    27732\n",
              "0-shot instruction data synthesis    22268\n",
              "tool development                      5000\n",
              "Name: count, dtype: int64"
            ]
          },
          "execution_count": 12,
          "metadata": {},
          "output_type": "execute_result"
        }
      ],
      "source": [
        "df.description.value_counts()"
      ]
    },
    {
      "cell_type": "markdown",
      "metadata": {
        "id": "1m_v-78cFUyb"
      },
      "source": [
        "# Push to Argilla"
      ]
    },
    {
      "cell_type": "code",
      "execution_count": null,
      "metadata": {
        "id": "2nwUdjomFUyc"
      },
      "outputs": [],
      "source": [
        "import argilla as rg\n",
        "\n",
        "client = rg.Argilla(\n",
        "    api_url=\"https://argilla-data-explorers.hf.space\",\n",
        "    api_key=\"owner.apikey\",\n",
        ")\n",
        "\n",
        "dataset_name = \"persona-hub\""
      ]
    },
    {
      "cell_type": "code",
      "execution_count": null,
      "metadata": {
        "id": "prR46eK_FUyc",
        "outputId": "225bd18f-cacf-43ad-a643-0b718a67ac63"
      },
      "outputs": [
        {
          "name": "stderr",
          "output_type": "stream",
          "text": [
            "/Users/ben/code/argilla/argilla/src/argilla/datasets/_resource.py:202: UserWarning: Workspace not provided. Using default workspace: admin id: 05ff1e19-2ef0-4e65-88ef-7876fbaa8331\n",
            "  warnings.warn(f\"Workspace not provided. Using default workspace: {workspace.name} id: {workspace.id}\")\n"
          ]
        },
        {
          "data": {
            "text/plain": [
              "Dataset(id=UUID('f640aa10-03c5-41fa-9a5c-c51364feec9a') inserted_at=datetime.datetime(2024, 7, 8, 11, 19, 51, 492829) updated_at=datetime.datetime(2024, 7, 8, 11, 19, 54, 50227) name='persona-hub' status='ready' guidelines=None allow_extra_metadata=False workspace_id=UUID('05ff1e19-2ef0-4e65-88ef-7876fbaa8331') last_activity_at=datetime.datetime(2024, 7, 8, 11, 19, 54, 50227) url=None)"
            ]
          },
          "execution_count": 22,
          "metadata": {},
          "output_type": "execute_result"
        }
      ],
      "source": [
        "dataset = client.datasets(dataset_name)\n",
        "dataset.delete()\n",
        "\n",
        "settings = rg.Settings(\n",
        "    fields=[\n",
        "        rg.TextField(name=\"input_persona\", title=\"Persona\"),\n",
        "        rg.TextField(name=\"synthesized_text\", title=\"Synthesized text\", use_markdown=True),\n",
        "        rg.TextField(name=\"description\", title=\"Description\"),\n",
        "    ],\n",
        "    questions=[\n",
        "        rg.RatingQuestion(\n",
        "            name=\"chosen_rating\",\n",
        "            title=\"Chosen response\",\n",
        "            description=\"Rate the quality of the chosen response\",\n",
        "            values=[\"1\", \"2\", \"3\", \"4\", \"5\"],\n",
        "        ),\n",
        "        rg.TextQuestion(\n",
        "            name=\"correction\",\n",
        "            title=\"Correction\",\n",
        "            description=\"Please provide a correction to the conversation\",\n",
        "        ),\n",
        "        rg.TextQuestion(\n",
        "            name=\"feedback\",\n",
        "            title=\"Feedback\",\n",
        "            description=\"Please provide feedback on the conversation\",\n",
        "        ),\n",
        "    ],\n",
        "    vectors=[\n",
        "        rg.VectorField(\n",
        "            name=\"input_persona_vector\",\n",
        "            dimensions=768,\n",
        "        ),\n",
        "        rg.VectorField(\n",
        "            name=\"synthesized_text_vector\",\n",
        "            dimensions=768,\n",
        "        ),\n",
        "    ],\n",
        ")\n",
        "\n",
        "dataset = rg.Dataset(\n",
        "    name=dataset_name,\n",
        "    settings=settings,\n",
        ")\n",
        "\n",
        "\n",
        "dataset.create()"
      ]
    },
    {
      "cell_type": "code",
      "execution_count": null,
      "metadata": {
        "id": "MNDljuXiFUyc",
        "outputId": "986633d5-4525-49d8-f67d-67f1508ff894"
      },
      "outputs": [
        {
          "data": {
            "text/html": [
              "<pre style=\"white-space:pre;overflow-x:auto;line-height:normal;font-family:Menlo,'DejaVu Sans Mono',consolas,'Courier New',monospace\">DatasetRecords: The provided batch size <span style=\"color: #008080; text-decoration-color: #008080; font-weight: bold\">256</span> was normalized. Using value <span style=\"color: #008080; text-decoration-color: #008080; font-weight: bold\">100</span>.\n",
              "</pre>\n"
            ],
            "text/plain": [
              "DatasetRecords: The provided batch size \u001b[1;36m256\u001b[0m was normalized. Using value \u001b[1;36m100\u001b[0m.\n"
            ]
          },
          "metadata": {},
          "output_type": "display_data"
        },
        {
          "name": "stderr",
          "output_type": "stream",
          "text": [
            "Sending records...: 100%|██████████| 1/1 [00:01<00:00,  1.44s/batch]\n"
          ]
        },
        {
          "data": {
            "text/plain": [
              "DatasetRecords(Dataset(id=UUID('f640aa10-03c5-41fa-9a5c-c51364feec9a') inserted_at=datetime.datetime(2024, 7, 8, 11, 19, 51, 492829) updated_at=datetime.datetime(2024, 7, 8, 11, 19, 54, 50227) name='persona-hub' status='ready' guidelines=None allow_extra_metadata=False workspace_id=UUID('05ff1e19-2ef0-4e65-88ef-7876fbaa8331') last_activity_at=datetime.datetime(2024, 7, 8, 11, 19, 54, 50227) url=None))"
            ]
          },
          "execution_count": 24,
          "metadata": {},
          "output_type": "execute_result"
        }
      ],
      "source": [
        "import json\n",
        "\n",
        "max_records = 100\n",
        "records = []\n",
        "for idx, row in df.sample(max_records).iterrows():\n",
        "    conversation_id = hash(row[\"synthesized text\"])\n",
        "    synthesized_text = row[\"synthesized text\"]\n",
        "    descrtipion = row[\"description\"]\n",
        "    input_persona = row[\"input persona\"]\n",
        "\n",
        "    if descrtipion == \"tool development\":\n",
        "        synthesized_text = f\"```json\\n{json.loads(synthesized_text)}\\n```\"\n",
        "\n",
        "    record = rg.Record(\n",
        "        fields={\n",
        "            \"input_persona\": input_persona,\n",
        "            \"synthesized_text\": synthesized_text,\n",
        "            \"description\": descrtipion,\n",
        "        },\n",
        "        suggestions=[\n",
        "            rg.Suggestion(\n",
        "                question_name=\"correction\",\n",
        "                value=row[\"synthesized text\"],\n",
        "            )\n",
        "        ]\n",
        "    )\n",
        "    records.append(record)\n",
        "\n",
        "\n",
        "dataset.records.log(records)"
      ]
    },
    {
      "cell_type": "code",
      "execution_count": null,
      "metadata": {
        "id": "-ZwPhYf0FUyd"
      },
      "outputs": [],
      "source": [
        "from sentence_transformers import SentenceTransformer\n",
        "\n",
        "# Load https://huggingface.co/sentence-transformers/all-mpnet-base-v2\n",
        "model = SentenceTransformer(\"all-mpnet-base-v2\")"
      ]
    },
    {
      "cell_type": "code",
      "execution_count": null,
      "metadata": {
        "id": "oyghWs62FUyd",
        "outputId": "9982d794-db5f-4398-bbfc-973a8980014c"
      },
      "outputs": [
        {
          "data": {
            "text/html": [
              "<pre style=\"white-space:pre;overflow-x:auto;line-height:normal;font-family:Menlo,'DejaVu Sans Mono',consolas,'Courier New',monospace\">DatasetRecords: The provided batch size <span style=\"color: #008080; text-decoration-color: #008080; font-weight: bold\">256</span> was normalized. Using value <span style=\"color: #008080; text-decoration-color: #008080; font-weight: bold\">50</span>.\n",
              "</pre>\n"
            ],
            "text/plain": [
              "DatasetRecords: The provided batch size \u001b[1;36m256\u001b[0m was normalized. Using value \u001b[1;36m50\u001b[0m.\n"
            ]
          },
          "metadata": {},
          "output_type": "display_data"
        },
        {
          "name": "stderr",
          "output_type": "stream",
          "text": [
            "Sending records...: 100%|██████████| 1/1 [00:05<00:00,  5.77s/batch]\n"
          ]
        },
        {
          "data": {
            "text/html": [
              "<pre style=\"white-space:pre;overflow-x:auto;line-height:normal;font-family:Menlo,'DejaVu Sans Mono',consolas,'Courier New',monospace\">DatasetRecords: The provided batch size <span style=\"color: #008080; text-decoration-color: #008080; font-weight: bold\">256</span> was normalized. Using value <span style=\"color: #008080; text-decoration-color: #008080; font-weight: bold\">50</span>.\n",
              "</pre>\n"
            ],
            "text/plain": [
              "DatasetRecords: The provided batch size \u001b[1;36m256\u001b[0m was normalized. Using value \u001b[1;36m50\u001b[0m.\n"
            ]
          },
          "metadata": {},
          "output_type": "display_data"
        },
        {
          "name": "stderr",
          "output_type": "stream",
          "text": [
            "Sending records...: 100%|██████████| 1/1 [00:05<00:00,  5.59s/batch]\n"
          ]
        }
      ],
      "source": [
        "updated_records = []\n",
        "batch_size = 50\n",
        "\n",
        "for record in dataset.records:\n",
        "    embeddings = model.encode(\n",
        "        [\n",
        "            record.fields[\"input_persona\"],\n",
        "            record.fields[\"synthesized_text\"],\n",
        "        ]\n",
        "    )\n",
        "    record.vectors[\"input_persona_vector\"] = embeddings[0]\n",
        "    record.vectors[\"synthesized_text_vector\"] = embeddings[0]\n",
        "\n",
        "    updated_records.append(record)\n",
        "    if len(updated_records) % batch_size == 0:\n",
        "        dataset.records.log(updated_records)\n",
        "        updated_records = []\n",
        "if updated_records:\n",
        "    dataset.records.log(updated_records)"
      ]
    },
    {
      "cell_type": "markdown",
      "metadata": {
        "id": "2VS66oXiFUyd"
      },
      "source": [
        "# Delete"
      ]
    },
    {
      "cell_type": "code",
      "execution_count": null,
      "metadata": {
        "id": "vmf-Mjs0FUyd"
      },
      "outputs": [],
      "source": [
        "dataset = client.datasets(dataset_name)\n",
        "dataset.delete()"
      ]
    }
  ],
  "metadata": {
    "kernelspec": {
      "display_name": ".venv",
      "language": "python",
      "name": "python3"
    },
    "language_info": {
      "codemirror_mode": {
        "name": "ipython",
        "version": 3
      },
      "file_extension": ".py",
      "mimetype": "text/x-python",
      "name": "python",
      "nbconvert_exporter": "python",
      "pygments_lexer": "ipython3",
      "version": "3.11.9"
    },
    "colab": {
      "provenance": [],
      "include_colab_link": true
    }
  },
  "nbformat": 4,
  "nbformat_minor": 0
}